{
 "cells": [
  {
   "cell_type": "markdown",
   "id": "04689213-3104-4518-b399-8c1c86e4eace",
   "metadata": {},
   "source": [
    "# Exercício 01\n",
    "\n",
    "<p style=\"text-align:justify;\">\n",
    "Você é desafiado a criar uma classe em Java chamada ExercicioVariaveis que declare e inicialize variáveis de todos os tipos primitivos disponíveis na linguagem Java. Além disso, a classe deve utilizar caracteres especiais em algumas strings para demonstrar o uso adequado desses caracteres.\n",
    "\n",
    "Siga as instruções abaixo:\n",
    "</p>\n",
    "\n",
    "\n",
    "1. Declare e inicialize variáveis dos seguintes tipos primitivos:\n",
    "\n",
    "- int\n",
    "- long\n",
    "- float\n",
    "- double\n",
    "- char\n",
    "- boolean\n",
    "- byte\n",
    "- short\n",
    "- Exiba os valores das variáveis utilizando System.out.println.\n",
    "\n",
    "2. Utilize caracteres especiais em algumas strings para representar:\n",
    "\n",
    "- Caractere de nova linha (\\n)\n",
    "- Caractere de tabulação (\\t)\n",
    "- Caractere de aspas duplas (\")\n",
    "- Caractere de barra invertida (\\\\)\n",
    "- Certifique-se de que o código compila e execute corretamente.\n",
    "\n"
   ]
  },
  {
   "cell_type": "code",
   "execution_count": 6,
   "id": "16f0ad2d-7f62-4f2a-bc7c-0adff558865a",
   "metadata": {
    "tags": []
   },
   "outputs": [
    {
     "name": "stdout",
     "output_type": "stream",
     "text": [
      "1082\n",
      "88888889\n",
      "2.0\n",
      "3.1462559845152\n",
      "x\n",
      "true\n",
      "2\n",
      "10\n",
      "palavra\n",
      "palavra\t\"palavra\"\\palavra\\"
     ]
    },
    {
     "data": {
      "text/plain": [
       "null"
      ]
     },
     "execution_count": 6,
     "metadata": {},
     "output_type": "execute_result"
    }
   ],
   "source": [
    "//public class ExercicioVariaveis{\n",
    "    //public static void main(String args[]){\n",
    "        int a = 1082;\n",
    "        long b = 88888889;\n",
    "        float c = 2;\n",
    "        double d = 3.1462559845152;\n",
    "        char e = 'x';\n",
    "        boolean f = true;\n",
    "        byte g = 2;\n",
    "        short h = 10;\n",
    "\n",
    "        System.out.println(a);\n",
    "        System.out.println(b);\n",
    "        System.out.println(c);\n",
    "        System.out.println(d);\n",
    "        System.out.println(e);\n",
    "        System.out.println(f);\n",
    "        System.out.println(g);\n",
    "        System.out.println(h);\n",
    "\n",
    "        String i = \"palavra\";\n",
    "\n",
    "        System.out.printf(\"%s\\n\", i);\n",
    "        System.out.printf(\"%s\\t\", i);\n",
    "        System.out.printf(\"\\\"%s\\\"\", i);\n",
    "        System.out.printf(\"\\\\%s\\\\\", i);\n",
    "   //}\n",
    "//}"
   ]
  },
  {
   "cell_type": "markdown",
   "id": "6a091ea4-7160-4a68-8e27-516281cdde44",
   "metadata": {},
   "source": [
    "# Exercício 02\n",
    "\n",
    "<p style=\"text-align:justify;\">\n",
    "Crie uma classe que efetue a leitura de um valor inteiro e outro real, exibindo-os no console.\n",
    "</p>\n"
   ]
  },
  {
   "cell_type": "code",
   "execution_count": 8,
   "id": "b1fc1c9c-1041-4489-ab5a-c6dbb117c46e",
   "metadata": {
    "tags": []
   },
   "outputs": [
    {
     "name": "stdout",
     "output_type": "stream",
     "text": [
      "Digite dois valores"
     ]
    },
    {
     "name": "stdin",
     "output_type": "stream",
     "text": [
      " 5\n",
      " 5\n"
     ]
    },
    {
     "name": "stdout",
     "output_type": "stream",
     "text": [
      "Valor interiro: 5\n",
      "Valor real: 5.000000\n"
     ]
    },
    {
     "data": {
      "text/plain": [
       "null"
      ]
     },
     "execution_count": 8,
     "metadata": {},
     "output_type": "execute_result"
    }
   ],
   "source": [
    "import java.util.Scanner;\n",
    "\n",
    "//public class ex02{\n",
    "    //public static void main(String args[]){\n",
    "        int a;\n",
    "        float b;\n",
    "        Scanner sc = new Scanner(System.in);\n",
    "\n",
    "        System.out.printf(\"Digite dois valores\");\n",
    "        a = sc.nextInt();\n",
    "        b = sc.nextFloat();\n",
    "\n",
    "        System.out.printf(\"Valor interiro: %d\\n\", a);\n",
    "        System.out.printf(\"Valor real: %f\\n\", b);\n",
    "   //}\n",
    "//}"
   ]
  },
  {
   "cell_type": "markdown",
   "id": "f4fa7c5f-f375-4dbd-9d41-c29e4aa530b8",
   "metadata": {},
   "source": [
    "# Exercício 03\n",
    "\n",
    "<p style=\"text-align:justify;\">\n",
    "Crie uma classe que receba o valor de um produto e a porcentagem de desconto, calcule e mostre o valor do desconto e o valor do produto com o desconto. \n",
    "</p>\n",
    "\n",
    "- Observação: o valor do desconto é calculado por meio da fórmula: \n",
    "    valor do desconto = valor do produto * percentual de desconto / 100."
   ]
  },
  {
   "cell_type": "code",
   "execution_count": 9,
   "id": "27572059-80fa-4edc-8b68-8a278f44beb2",
   "metadata": {
    "tags": []
   },
   "outputs": [
    {
     "name": "stdout",
     "output_type": "stream",
     "text": [
      "Digite o valor do produto:"
     ]
    },
    {
     "name": "stdin",
     "output_type": "stream",
     "text": [
      " 10\n"
     ]
    },
    {
     "name": "stdout",
     "output_type": "stream",
     "text": [
      "Digite a porcentagem de desconto:"
     ]
    },
    {
     "name": "stdin",
     "output_type": "stream",
     "text": [
      " 5\n"
     ]
    },
    {
     "name": "stdout",
     "output_type": "stream",
     "text": [
      "Valor de desconto: 0.50 \n",
      "Valor do produto com desconto: 9.50 \n"
     ]
    },
    {
     "data": {
      "text/plain": [
       "null"
      ]
     },
     "execution_count": 9,
     "metadata": {},
     "output_type": "execute_result"
    }
   ],
   "source": [
    "import java.util.Scanner;\n",
    "\n",
    "//public class ex03{\n",
    "    //public static void main(String args[]){\n",
    "        float valor, porcentagem, desconto;\n",
    "        Scanner sc = new Scanner(System.in);\n",
    "\n",
    "        System.out.printf(\"Digite o valor do produto:\");\n",
    "        valor = sc.nextFloat();\n",
    "        System.out.printf(\"Digite a porcentagem de desconto:\");\n",
    "        porcentagem = sc.nextFloat();\n",
    "        desconto = valor*porcentagem/100;\n",
    "\n",
    "        System.out.printf(\"Valor de desconto: %.2f \\n\", desconto);\n",
    "        System.out.printf(\"Valor do produto com desconto: %.2f \\n\", valor-desconto);\n",
    "   //}\n",
    "//}"
   ]
  },
  {
   "cell_type": "markdown",
   "id": "9fe1c075-7e1e-4ee7-ad63-82c57f315026",
   "metadata": {},
   "source": [
    "# Exercício 04\n",
    "\n",
    "<p style=\"text-align:justify;\">\n",
    "Crie uma classe que receba dois valores inteiros. \n",
    "</p>\n",
    "\n",
    "- O primeiro valor corresponde à quantidade de pontos do líder do campeonato brasileiro de futebol. \n",
    "\n",
    "- O segundo valor corresponde à quantidade de pontos do time lanterna. \n",
    "\n",
    "<p style=\"text-align:justify;\">\n",
    "- Considerando que cada vitória vale 3 pontos, calcule o número de vitórias necessárias para que o time lanterna alcance (ou ultrapasse) o líder. \n",
    "    \n",
    "- Por exemplo, supondo que as quantidades de ponto fornecidas sejam 40 e 22, então o número de vitórias apresentada na saída deverá ser 6, pois (40-22) / 3 = 6.\n",
    "</p>"
   ]
  },
  {
   "cell_type": "code",
   "execution_count": 10,
   "id": "5914c0ce-a615-4b29-804e-ef33d0791bcc",
   "metadata": {
    "tags": []
   },
   "outputs": [
    {
     "name": "stdout",
     "output_type": "stream",
     "text": [
      "Digite a quantidade de pontos do líder do campeonato brasileiro de futebol: "
     ]
    },
    {
     "name": "stdin",
     "output_type": "stream",
     "text": [
      " 30\n"
     ]
    },
    {
     "name": "stdout",
     "output_type": "stream",
     "text": [
      "Digite a quantidade de pontos do time lanterna: "
     ]
    },
    {
     "name": "stdin",
     "output_type": "stream",
     "text": [
      " 26\n"
     ]
    },
    {
     "name": "stdout",
     "output_type": "stream",
     "text": [
      "Número de vitórias necessárias para que o time lanterna alcance (ou ultrapasse) o líder: 1"
     ]
    },
    {
     "data": {
      "text/plain": [
       "null"
      ]
     },
     "execution_count": 10,
     "metadata": {},
     "output_type": "execute_result"
    }
   ],
   "source": [
    "import java.util.Scanner;\n",
    "\n",
    "//public class ex04{\n",
    "    //public static void main(String args[]){\n",
    "        int a, b, c;\n",
    "        Scanner sc = new Scanner(System.in);\n",
    "\n",
    "        System.out.printf(\"Digite a quantidade de pontos do líder do campeonato brasileiro de futebol: \");\n",
    "        a = sc.nextInt();\n",
    "        System.out.printf(\"Digite a quantidade de pontos do time lanterna: \");\n",
    "        b = sc.nextInt();\n",
    "\n",
    "        c = (a-b)/3;\n",
    "        System.out.printf(\"Número de vitórias necessárias para que o time lanterna alcance (ou ultrapasse) o líder: %d\", c);\n",
    "\n",
    "   //}\n",
    "//}"
   ]
  },
  {
   "cell_type": "markdown",
   "id": "4633896c-66f1-4a5c-84f4-de80d09b3a6b",
   "metadata": {},
   "source": [
    "# Exercício 05\n",
    "\n",
    "<p style=\"text-align:justify;\">\n",
    "Escreva instruções para realizar cada uma das tarefas a seguir:\n",
    "\n",
    "1. Declare que as variáveis c, thisIsAVariable, q76354 e number serão do tipo int.\n",
    "\n",
    "2. Solicite que o usuário insira um inteiro.\n",
    "\n",
    "3. Insira um inteiro e atribua o resultado à variável int value. Suponha que a variável Scanner input possa ser utilizada para ler um valor digitado pelo usuário.\n",
    "\n",
    "4. Imprima “Este é um programa em Java\" em uma linha na janela de comando. Use o método System.out.println.\n",
    "\n",
    "5. Imprima “Este é um programa em Java\" em duas linhas na janela de comando. Utilize o método System.out.printf e dois especificadores de formato %s.\n",
    "</p>\n"
   ]
  },
  {
   "cell_type": "code",
   "execution_count": 15,
   "id": "4515f9a2-95a7-4a10-b6a5-827a96f9c44f",
   "metadata": {
    "tags": []
   },
   "outputs": [
    {
     "name": "stdout",
     "output_type": "stream",
     "text": [
      "Digite um valor"
     ]
    },
    {
     "name": "stdin",
     "output_type": "stream",
     "text": [
      " 5\n"
     ]
    },
    {
     "name": "stdout",
     "output_type": "stream",
     "text": [
      "Esté é um programa em Java\n",
      "Esté é um programa em Java\n",
      "Esté é um programa em Java"
     ]
    },
    {
     "data": {
      "text/plain": [
       "null"
      ]
     },
     "execution_count": 15,
     "metadata": {},
     "output_type": "execute_result"
    }
   ],
   "source": [
    "import java.util.Scanner;\n",
    "\n",
    "//public class ex05{\n",
    "    //public static void main(String args[]){\n",
    "        int c, thisIsAVariable, q76354, number;\n",
    "        Scanner sc = new Scanner(System.in);\n",
    "\n",
    "        System.out.printf(\"Digite um valor\");\n",
    "        int value = sc.nextInt();\n",
    "\n",
    "        String s = \"Esté é um programa em Java\";\n",
    "        System.out.println(s);\n",
    "        System.out.printf(\"%s\\n%s\",s,s);\n",
    "   //}\n",
    "//}"
   ]
  },
  {
   "cell_type": "markdown",
   "id": "42906d7e-d01b-49b2-bfef-ed4fdd6dab07",
   "metadata": {},
   "source": [
    "# Exercício 06 \n",
    "<p style=\"text-align:justify;\">\n",
    "Crie uma classe que solicite ao usuário inserir dois inteiros, obtenha dele esses números e imprima sua soma, produto, diferença e quociente (divisão).\n",
    "</p>"
   ]
  },
  {
   "cell_type": "code",
   "execution_count": 17,
   "id": "68cc1699-d585-40ea-b0d4-edd278538f20",
   "metadata": {
    "tags": []
   },
   "outputs": [
    {
     "name": "stdout",
     "output_type": "stream",
     "text": [
      "Digite dois valores"
     ]
    },
    {
     "name": "stdin",
     "output_type": "stream",
     "text": [
      " 5\n",
      " 2\n"
     ]
    },
    {
     "name": "stdout",
     "output_type": "stream",
     "text": [
      "Soma: 7\n",
      "Produto: 10\n",
      "Diferença: 3\n",
      "Divisão: 2\n"
     ]
    },
    {
     "data": {
      "text/plain": [
       "null"
      ]
     },
     "execution_count": 17,
     "metadata": {},
     "output_type": "execute_result"
    }
   ],
   "source": [
    "import java.util.Scanner;\n",
    "\n",
    "//public class ex06{\n",
    "    //public static void main(String args[]){\n",
    "        int a, b;\n",
    "        Scanner sc = new Scanner(System.in);\n",
    "\n",
    "        System.out.printf(\"Digite dois valores\");\n",
    "        a = sc.nextInt();\n",
    "        b = sc.nextInt();\n",
    "\n",
    "        System.out.printf(\"Soma: %d\\n\", a+b);\n",
    "        System.out.printf(\"Produto: %d\\n\", a*b);\n",
    "        System.out.printf(\"Diferença: %d\\n\", a-b);\n",
    "        System.out.printf(\"Divisão: %d\\n\", a/b);\n",
    "   //}\n",
    "//}"
   ]
  },
  {
   "cell_type": "markdown",
   "id": "db7c7f2a-c557-430a-ade4-8252198f95b5",
   "metadata": {},
   "source": [
    "# Exercício 07 \n",
    "\n",
    "Declare uma classe para calcular o produto de três inteiros.\n",
    "\n",
    "Siga as instruções abaixo:\n",
    "\n",
    "1. Crie um Scanner chamado input que leia valores a partir da entrada padrão.\n",
    "2. Declare as variáveis x, y, z e result como tipo int.\n",
    "3. Solicite que o usuário insira o primeiro inteiro.\n",
    "4. Leia o primeiro inteiro digitado pelo usuário e armazene-o na variável x.\n",
    "5. Solicite que o usuário insira o segundo inteiro.\n",
    "6. Leia o segundo inteiro digitado pelo usuário e armazene-o na variável y.\n",
    "7. Solicite que o usuário insira o terceiro inteiro.\n",
    "8. Leia o terceiro inteiro digitado pelo usuário e armazene-o na variável z.\n",
    "9. Compute o produto dos três inteiros contidos nas variáveis x, y e z e atribua o resultado à variável result.\n",
    "19. Use System.out.printf para exibir a mensagem “O valor do produto é” seguida pelo valor da variável result. "
   ]
  },
  {
   "cell_type": "code",
   "execution_count": 19,
   "id": "c421ee60-57dd-4674-8436-2e43e758e4f1",
   "metadata": {
    "tags": []
   },
   "outputs": [
    {
     "name": "stdout",
     "output_type": "stream",
     "text": [
      "Insira o primeiro valor inteiro:\n"
     ]
    },
    {
     "name": "stdin",
     "output_type": "stream",
     "text": [
      " 2\n"
     ]
    },
    {
     "name": "stdout",
     "output_type": "stream",
     "text": [
      "Insira o segundo valor inteiro:\n"
     ]
    },
    {
     "name": "stdin",
     "output_type": "stream",
     "text": [
      " 5\n"
     ]
    },
    {
     "name": "stdout",
     "output_type": "stream",
     "text": [
      "Insira o terceiro valor inteiro:\n"
     ]
    },
    {
     "name": "stdin",
     "output_type": "stream",
     "text": [
      " 3\n"
     ]
    },
    {
     "name": "stdout",
     "output_type": "stream",
     "text": [
      "O valor do produto é: 30\n"
     ]
    },
    {
     "data": {
      "text/plain": [
       "null"
      ]
     },
     "execution_count": 19,
     "metadata": {},
     "output_type": "execute_result"
    }
   ],
   "source": [
    "import java.util.Scanner;\n",
    "\n",
    "//public class Ex07{\n",
    "    //public static void main (String args[]){\n",
    "        Scanner input = new Scanner(System.in);\n",
    "        int x, y, z, result;\n",
    "        System.out.println(\"Insira o primeiro valor inteiro:\");\n",
    "        x = input.nextInt();\n",
    "        System.out.println(\"Insira o segundo valor inteiro:\");\n",
    "        y = input.nextInt();\n",
    "        System.out.println(\"Insira o terceiro valor inteiro:\");\n",
    "        z = input.nextInt();\n",
    "        input.close();\n",
    "\n",
    "        result = x*y*z;\n",
    "\n",
    "        System.out.printf(\"O valor do produto é: %d\\n\", result);\n",
    "    //}\n",
    "//}"
   ]
  },
  {
   "cell_type": "code",
   "execution_count": null,
   "id": "5652a93c-da46-41ea-9627-f84047a454e7",
   "metadata": {},
   "outputs": [],
   "source": []
  }
 ],
 "metadata": {
  "kernelspec": {
   "display_name": "Java",
   "language": "java",
   "name": "java"
  },
  "language_info": {
   "codemirror_mode": "text/x-java",
   "file_extension": ".java",
   "mimetype": "",
   "name": "Java",
   "nbconverter_exporter": "",
   "version": "1.8.0_121"
  }
 },
 "nbformat": 4,
 "nbformat_minor": 5
}
